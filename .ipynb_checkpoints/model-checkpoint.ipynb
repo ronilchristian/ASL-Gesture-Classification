{
 "cells": [
  {
   "cell_type": "markdown",
   "id": "subject-temperature",
   "metadata": {},
   "source": [
    "Dataset -> [Sign Language MNIST](https://www.kaggle.com/datamunge/sign-language-mnist)"
   ]
  },
  {
   "cell_type": "code",
   "execution_count": null,
   "id": "alien-prescription",
   "metadata": {},
   "outputs": [],
   "source": [
    "# Importing the libraries\n",
    "import numpy as np\n",
    "import matplotlib.pyplot as plt\n",
    "import pandas as pd\n",
    "import tensorflow as tf\n",
    "\n",
    "%matplotlib inline"
   ]
  },
  {
   "cell_type": "code",
   "execution_count": null,
   "id": "healthy-praise",
   "metadata": {},
   "outputs": [],
   "source": [
    "train_set = pd.read_csv('dataset/sign_mnist_train.csv')\n",
    "test_set = pd.read_csv('dataset/sign_mnist_test.csv')"
   ]
  },
  {
   "cell_type": "code",
   "execution_count": null,
   "id": "ordinary-pleasure",
   "metadata": {},
   "outputs": [],
   "source": [
    "X_train = train_set.iloc[:, 1:].values\n",
    "y_train = train_set.iloc[:, 0].values\n",
    "\n",
    "X_test = test_set.iloc[:, 1:].values\n",
    "y_test = test_set.iloc[:, 0].values"
   ]
  },
  {
   "cell_type": "code",
   "execution_count": null,
   "id": "academic-saint",
   "metadata": {},
   "outputs": [],
   "source": [
    "X_train = np.array([np.reshape(i, (28,28)) for i in X_train])\n",
    "X_test = np.array([np.reshape(i, (28,28)) for i in X_test])\n",
    "\n",
    "y_train = np.array(y_train).reshape(-1)\n",
    "y_test = np.array(y_test).reshape(-1)"
   ]
  },
  {
   "cell_type": "code",
   "execution_count": null,
   "id": "upper-think",
   "metadata": {},
   "outputs": [],
   "source": [
    "y_train = tf.keras.utils.to_categorical(y_train, 26)\n",
    "y_test = tf.keras.utils.to_categorical(y_test, 26)"
   ]
  },
  {
   "cell_type": "code",
   "execution_count": null,
   "id": "promising-subject",
   "metadata": {},
   "outputs": [],
   "source": [
    "X_train = X_train.reshape((X_train.shape[0], 28, 28, 1))\n",
    "X_test = X_test.reshape((X_test.shape[0], 28, 28, 1))"
   ]
  },
  {
   "cell_type": "code",
   "execution_count": null,
   "id": "passing-sugar",
   "metadata": {},
   "outputs": [],
   "source": [
    "print('total training examples:', X_train.shape[0])\n",
    "print('total validation examples:', X_test.shape[0])"
   ]
  },
  {
   "cell_type": "code",
   "execution_count": null,
   "id": "final-accommodation",
   "metadata": {},
   "outputs": [],
   "source": [
    "np.set_printoptions(linewidth=200)\n",
    "plt.imshow(X_test[0])\n",
    "print(\"Class: \", y_test[0])"
   ]
  },
  {
   "cell_type": "code",
   "execution_count": null,
   "id": "european-central",
   "metadata": {},
   "outputs": [],
   "source": [
    "# Normalizing the data\n",
    "X_train  = X_train / 255.0\n",
    "X_test = X_test / 255.0"
   ]
  },
  {
   "cell_type": "code",
   "execution_count": null,
   "id": "southwest-amazon",
   "metadata": {},
   "outputs": [],
   "source": [
    "# Initializing model and adding layers\n",
    "\n",
    "model = tf.keras.models.Sequential([\n",
    "    # Note the input shape is the desired size of the image 28x28 with 1 bytes color\n",
    "    # This is the first convolution\n",
    "    tf.keras.layers.Conv2D(64, (3,3), activation='relu', input_shape=(28, 28, 1)),\n",
    "    tf.keras.layers.MaxPooling2D(2, 2),\n",
    "    # The second convolution\n",
    "    tf.keras.layers.Conv2D(128, (3,3), activation='relu'),\n",
    "    tf.keras.layers.MaxPooling2D(2,2),\n",
    "    # The third convolution\n",
    "    tf.keras.layers.Conv2D(256, (3,3), activation='relu'),\n",
    "    tf.keras.layers.MaxPooling2D(2,2),\n",
    "    # Dropping out 50% of the neurons\n",
    "    tf.keras.layers.Dropout(0.5),\n",
    "    # Flatten the results to feed into a DNN\n",
    "    tf.keras.layers.Flatten(),\n",
    "    # 512 neuron hidden layer\n",
    "    tf.keras.layers.Dense(512, activation='relu'),\n",
    "    # 26 output neurons. It will contain probabilities for each of the 26 classes.\n",
    "    tf.keras.layers.Dense(26, activation='softmax')\n",
    "])"
   ]
  },
  {
   "cell_type": "code",
   "execution_count": null,
   "id": "successful-enemy",
   "metadata": {},
   "outputs": [],
   "source": [
    "model.compile(optimizer=tf.keras.optimizers.Adam(), \n",
    "              loss='categorical_crossentropy', \n",
    "              metrics=['accuracy'])"
   ]
  },
  {
   "cell_type": "code",
   "execution_count": null,
   "id": "regular-designation",
   "metadata": {},
   "outputs": [],
   "source": [
    "model.summary()"
   ]
  },
  {
   "cell_type": "code",
   "execution_count": null,
   "id": "invalid-public",
   "metadata": {},
   "outputs": [],
   "source": [
    "%%time\n",
    "from livelossplot.tf_keras import PlotLossesCallback\n",
    "\n",
    "reduce_lr = tf.keras.callbacks.ReduceLROnPlateau(monitor='val_loss', \n",
    "                                                 factor=0.2, \n",
    "                                                 patience=5, \n",
    "                                                 min_lr=0.001)\n",
    "checkpoint = tf.keras.callbacks.ModelCheckpoint(\"model_weights.h5\", \n",
    "                                                save_weights_only=True, \n",
    "                                                monitor='val_accuracy',\n",
    "                                                mode='max', \n",
    "                                                save_best_only=True)\n",
    "callbacks = [PlotLossesCallback(), reduce_lr, checkpoint]\n",
    "\n",
    "history = model.fit(\n",
    "    X_train,\n",
    "    y_train,\n",
    "    batch_size = 32,\n",
    "    epochs = 32,\n",
    "    steps_per_epoch = X_train.shape[0] // 32,\n",
    "    callbacks = callbacks,\n",
    "    validation_data = (X_test, y_test),\n",
    "    validation_steps = X_test.shape[0] // 32\n",
    ")"
   ]
  },
  {
   "cell_type": "code",
   "execution_count": null,
   "id": "loving-processor",
   "metadata": {},
   "outputs": [],
   "source": [
    "# Saving trained model\n",
    "model.save('model.h5')"
   ]
  },
  {
   "cell_type": "code",
   "execution_count": null,
   "id": "technological-booking",
   "metadata": {},
   "outputs": [],
   "source": []
  }
 ],
 "metadata": {
  "kernelspec": {
   "display_name": "Python 3",
   "language": "python",
   "name": "python3"
  },
  "language_info": {
   "codemirror_mode": {
    "name": "ipython",
    "version": 3
   },
   "file_extension": ".py",
   "mimetype": "text/x-python",
   "name": "python",
   "nbconvert_exporter": "python",
   "pygments_lexer": "ipython3",
   "version": "3.8.5"
  }
 },
 "nbformat": 4,
 "nbformat_minor": 5
}
